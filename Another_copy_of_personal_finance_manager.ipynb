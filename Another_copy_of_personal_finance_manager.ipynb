{
  "nbformat": 4,
  "nbformat_minor": 0,
  "metadata": {
    "colab": {
      "provenance": [],
      "authorship_tag": "ABX9TyOARph55rCFe/K4ZxPDjoyK",
      "include_colab_link": true
    },
    "kernelspec": {
      "name": "python3",
      "display_name": "Python 3"
    },
    "language_info": {
      "name": "python"
    }
  },
  "cells": [
    {
      "cell_type": "markdown",
      "metadata": {
        "id": "view-in-github",
        "colab_type": "text"
      },
      "source": [
        "<a href=\"https://colab.research.google.com/github/shajudata/python-project/blob/main/Another_copy_of_personal_finance_manager.ipynb\" target=\"_parent\"><img src=\"https://colab.research.google.com/assets/colab-badge.svg\" alt=\"Open In Colab\"/></a>"
      ]
    },
    {
      "cell_type": "code",
      "execution_count": null,
      "metadata": {
        "id": "A0dykpBjB606"
      },
      "outputs": [],
      "source": [
        "# personal finance manager:\n",
        "#A personal finance manager is a tool or application that helps individuals manage their finances, including tracking income, expenses, budgeting, and analyzing financial data.\n",
        "# Tracking on income\n",
        "\n",
        "class IncomeTracker:\n",
        "    def __init__(self):\n",
        "        self.incomes = []\n",
        "\n",
        "    def add_income(self, amount, source, date):\n",
        "        self.incomes.append({\"amount\": amount, \"source\": source, \"date\": date})\n",
        "\n",
        "    def total_income(self):\n",
        "        return sum(income[\"amount\"] for income in self.incomes)\n",
        "\n",
        "    def input_income(self):\n",
        "        amount = float(input(\"Enter income amount: \"))\n",
        "        source = input(\"Enter income source: \")\n",
        "        date = input(\"Enter income date (YYYY-MM-DD): \")\n",
        "        self.add_income(amount, source, date)\n",
        "\n",
        "    def display_incomes(self):\n",
        "        for income in self.incomes:\n",
        "            print(f\"Amount: {income['amount']}, Source: {income['source']}, Date: {income['date']}\")\n",
        "\n",
        "tracker = IncomeTracker()\n",
        "\n",
        "# Adding Loop function for the user to add multiple incomes\n",
        "while True:\n",
        "    tracker.input_income()\n",
        "    more = input(\"Do you want to add another income? (yes/no): \")\n",
        "    if more.lower() != \"yes\":\n",
        "        break\n",
        "\n",
        "# Display the total income and the list of incomes\n",
        "print(\"Total income:\", tracker.total_income())\n",
        "tracker.display_incomes()\n",
        "\n"
      ]
    },
    {
      "cell_type": "code",
      "source": [
        "# expense tracking\n",
        "class ExpenseTracker:\n",
        "    def __init__(self):\n",
        "        self.expenses = []\n",
        "\n",
        "    def add_expense(self, amount, category, date):\n",
        "        self.expenses.append({\"amount\": amount, \"category\": category, \"date\": date})\n",
        "\n",
        "    def total_expenses(self):\n",
        "        return sum(expense[\"amount\"] for expense in self.expenses)\n",
        "\n",
        "    def input_expense(self):\n",
        "        amount = float(input(\"Enter expense amount: \"))\n",
        "        category = input(\"Enter expense category: \")\n",
        "        date = input(\"Enter expense date (YYYY-MM-DD): \")\n",
        "        self.add_expense(amount, category, date)\n",
        "\n",
        "    def display_expenses(self):\n",
        "        for expense in self.expenses:\n",
        "            print(f\"Amount: {expense['amount']}, Category: {expense['category']}, Date: {expense['date']}\")\n",
        "\n",
        "tracker = ExpenseTracker()\n",
        "\n",
        "# Adding Loop for the user to add multiple expenses\n",
        "while True:\n",
        "    tracker.input_expense()\n",
        "    more = input(\"Do you want to add another expense? (yes/no): \")\n",
        "    if more.lower() != \"yes\":\n",
        "        break\n",
        "\n",
        "# Display the total expenses and the list of expenses\n",
        "print(\"Total expenses:\", tracker.total_expenses())\n",
        "tracker.display_expenses()\n",
        "\n"
      ],
      "metadata": {
        "id": "QyqtHHQCC_Am"
      },
      "execution_count": null,
      "outputs": []
    },
    {
      "cell_type": "code",
      "source": [
        "class BudgetManager:\n",
        "    def __init__(self):\n",
        "        self.budgets = {}\n",
        "\n",
        "    def set_budget(self, category, amount):\n",
        "        self.budgets[category] = amount\n",
        "\n",
        "    def remaining_budget(self, category, expenses):\n",
        "        total_expenses = sum(expense[\"amount\"] for expense in expenses if expense[\"category\"] == category)\n",
        "        budget = self.budgets.get(category, 0)\n",
        "        return budget - total_expenses\n",
        "\n",
        "budget_manager = BudgetManager()\n",
        "budget_manager.set_budget(\"Food\", 600)\n",
        "budget_manager.set_budget(\"Transportation\", 300)\n",
        "budget_manager.set_budget(\"EMI\", 2000)\n",
        "budget_manager.set_budget(\"Rent\", 5000)\n",
        "\n",
        "expenses = [\n",
        "    {\"amount\": 100, \"category\": \"Food\"},\n",
        "    {\"amount\": 50, \"category\": \"Transportation\"},\n",
        "    {\"amount\": 500, \"category\": \"Rent\"},\n",
        "    {\"amount\": 150, \"category\": \"Food\"},\n",
        "]\n",
        "\n",
        "print(\"Remaining budget for Food:\", budget_manager.remaining_budget(\"Food\", expenses))\n",
        "print(\"Remaining budget for Rent:\", budget_manager.remaining_budget(\"Rent\", expenses))\n",
        "\n"
      ],
      "metadata": {
        "colab": {
          "base_uri": "https://localhost:8080/"
        },
        "id": "6mp-K3VlDj_m",
        "outputId": "2c7b5396-f4cb-4dac-e2b0-3291a6195e77"
      },
      "execution_count": null,
      "outputs": [
        {
          "output_type": "stream",
          "name": "stdout",
          "text": [
            "Remaining budget for Food: 350\n",
            "Remaining budget for Rent: 4500\n"
          ]
        }
      ]
    },
    {
      "cell_type": "code",
      "source": [
        "# transaction history\n",
        "import json\n",
        "\n",
        "class TransactionHistory:\n",
        "    def __init__(self):\n",
        "        self.transactions = []\n",
        "\n",
        "    def add_transaction(self, transaction_type, amount, category, source, date):\n",
        "        self.transactions.append({\"type\": transaction_type, \"amount\": amount, \"category\": category, \"source\": source, \"date\": date})\n",
        "\n",
        "    def display_transaction_history(self):\n",
        "        for transaction in self.transactions:\n",
        "            print(transaction)\n",
        "\n",
        "    def save_to_file(self, transactionfile):\n",
        "        with open(transactionfile, 'w') as file:\n",
        "            json.dump(self.transactions, file, indent=4)\n",
        "        print(f\"Transactions saved to {transactionfile}\")\n",
        "\n",
        "    def load_from_file(self, transactionfile):\n",
        "        try:\n",
        "            with open(transactionfile, 'r') as file:\n",
        "                self.transactions = json.load(file)\n",
        "            print(f\"Transactions loaded from {transactionfile}\")\n",
        "        except FileNotFoundError:\n",
        "            print(f\"No existing file found at {transactionfile}, starting fresh.\")\n",
        "\n",
        "history = TransactionHistory()\n",
        "\n",
        "# Load existing transactions from file\n",
        "history.load_from_file('transactions.json')\n",
        "\n",
        "# Add transactions\n",
        "history.add_transaction(\"Expense\", 50, \"Food\", \"Grocery Store\", \"2024-04-29\")\n",
        "history.add_transaction(\"Income\", 1000, \"Salary\", \"Employer\", \"2024-04-30\")\n",
        "\n",
        "# Display transaction history\n",
        "history.display_transaction_history()\n",
        "\n",
        "# Save the transactions to file\n",
        "history.save_to_file('transactions.json')\n",
        "\n"
      ],
      "metadata": {
        "colab": {
          "base_uri": "https://localhost:8080/"
        },
        "id": "qGVMlzutFndG",
        "outputId": "3c84f64d-c37e-4d14-9304-b3f649c3b5c5"
      },
      "execution_count": null,
      "outputs": [
        {
          "output_type": "stream",
          "name": "stdout",
          "text": [
            "{'type': 'Expense', 'amount': 50, 'category': 'Food', 'source': 'Grocery Store', 'date': '2024-04-29'}\n",
            "{'type': 'Income', 'amount': 1000, 'category': 'Salary', 'source': 'Employer', 'date': '2024-04-30'}\n"
          ]
        }
      ]
    },
    {
      "cell_type": "code",
      "source": [
        "# budget alerts\n",
        "class BudgetAlerts:\n",
        "    def __init__(self, expense_tracker, budget_manager):\n",
        "        self.expense_tracker = expense_tracker\n",
        "        self.budget_manager = budget_manager\n",
        "\n",
        "    def check_budget_status(self, category):\n",
        "        remaining_budget = self.budget_manager.remaining_budget(category)\n",
        "        total_expenses = sum(expense[\"amount\"] for expense in self.expense_tracker.expenses if expense[\"category\"] == category)\n",
        "        if total_expenses > 0 and total_expenses >= 0.8 * remaining_budget:\n",
        "            print(f\"Alert: {category} budget is nearly exhausted!\")\n",
        "\n",
        "alerts = BudgetAlerts(tracker, budget_manager)\n",
        "alerts.check_budget_status(\"Food\")\n",
        "\n",
        "\n"
      ],
      "metadata": {
        "colab": {
          "base_uri": "https://localhost:8080/"
        },
        "id": "N0naJpp1HSDQ",
        "outputId": "8402410a-d621-4b25-8ab7-d36a1b1fc07a"
      },
      "execution_count": null,
      "outputs": [
        {
          "output_type": "stream",
          "name": "stdout",
          "text": [
            "Alert: Food budget is nearly exhausted!\n"
          ]
        }
      ]
    }
  ]
}