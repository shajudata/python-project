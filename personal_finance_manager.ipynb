{
  "nbformat": 4,
  "nbformat_minor": 0,
  "metadata": {
    "colab": {
      "provenance": []
    },
    "kernelspec": {
      "name": "python3",
      "display_name": "Python 3"
    },
    "language_info": {
      "name": "python"
    }
  },
  "cells": [
    {
      "cell_type": "code",
      "execution_count": 3,
      "metadata": {
        "colab": {
          "base_uri": "https://localhost:8080/"
        },
        "id": "A0dykpBjB606",
        "outputId": "9d827f82-3264-4f31-de6a-726fd8cb61da"
      },
      "outputs": [
        {
          "output_type": "stream",
          "name": "stdout",
          "text": [
            "Total income: 18000\n"
          ]
        }
      ],
      "source": [
        "# Tracking on income\n",
        "\n",
        "class IncomeTracker:\n",
        "    def __init__(self):\n",
        "        self.income = []\n",
        "\n",
        "    def add_income(self, amount, source, date):\n",
        "        self.income.append({\"amount\": amount, \"source\": source, \"date\": date})\n",
        "\n",
        "    def total_income(self):\n",
        "        return sum(income[\"amount\"] for income in self.income)\n",
        "\n",
        "tracker = IncomeTracker()\n",
        "tracker.add_income(10000, \"Salary\", \"2024-04-29\")\n",
        "tracker.add_income(5000, \"Freelance\", \"2024-04-29\")\n",
        "tracker.add_income(3000, \"Stockmarket\", \"2024-04-29\")\n",
        "\n",
        "print(\"Total income:\", tracker.total_income())\n"
      ]
    },
    {
      "cell_type": "code",
      "source": [
        "# expense tracking\n",
        "\n",
        "class ExpenseTracker:\n",
        "    def __init__(self):\n",
        "        self.expenses = []\n",
        "\n",
        "    def add_expense(self, amount, category, date):\n",
        "        self.expenses.append({\"amount\": amount, \"category\": category, \"date\": date})\n",
        "\n",
        "    def total_expenses(self):\n",
        "        return sum(expense[\"amount\"] for expense in self.expenses)\n",
        "\n",
        "tracker = ExpenseTracker()\n",
        "tracker.add_expense(500, \"Food\", \"2024-04-29\")\n",
        "tracker.add_expense(300, \"Transportation\", \"2024-04-29\")\n",
        "tracker.add_expense(2000, \"EMI\", \"2024-04-29\")\n",
        "tracker.add_expense(5000, \"Rent\", \"2024-04-29\")\n",
        "\n",
        "\n",
        "print(\"Total expenses:\", tracker.total_expenses())\n"
      ],
      "metadata": {
        "colab": {
          "base_uri": "https://localhost:8080/"
        },
        "id": "QyqtHHQCC_Am",
        "outputId": "13cc673d-68d6-4b35-898e-dd684d2c4edc"
      },
      "execution_count": 4,
      "outputs": [
        {
          "output_type": "stream",
          "name": "stdout",
          "text": [
            "Total expenses: 7800\n"
          ]
        }
      ]
    },
    {
      "cell_type": "code",
      "source": [
        "class BudgetManager:\n",
        "    def __init__(self):\n",
        "        self.budgets = {}\n",
        "\n",
        "    def set_budget(self, category, amount):\n",
        "        self.budgets[category] = amount\n",
        "\n",
        "    def remaining_budget(self, category):\n",
        "        expenses = [expense[\"amount\"] for expense in tracker.expenses if expense[\"category\"] == category]\n",
        "        total_expenses = sum(expenses)\n",
        "        budget = self.budgets.get(category, 0)\n",
        "        return budget - total_expenses\n",
        "\n",
        "budget_manager = BudgetManager()\n",
        "budget_manager.set_budget(\"Food\", 500)\n",
        "budget_manager.set_budget(\"Transportation\", 300)\n",
        "budget_manager.set_budget(\"EMI\", 2000)\n",
        "budget_manager.set_budget(\"Rent\", 5000)\n",
        "print(\"Remaining budget for Food:\", budget_manager.remaining_budget(\"Food\"))\n"
      ],
      "metadata": {
        "colab": {
          "base_uri": "https://localhost:8080/"
        },
        "id": "6mp-K3VlDj_m",
        "outputId": "391e8c1f-8a51-4d4f-b937-73e27f547a73"
      },
      "execution_count": 9,
      "outputs": [
        {
          "output_type": "stream",
          "name": "stdout",
          "text": [
            "Remaining budget for Food: 100\n"
          ]
        }
      ]
    },
    {
      "cell_type": "code",
      "source": [
        "# transaction history\n",
        "class TransactionHistory:\n",
        "    def __init__(self):\n",
        "        self.transactions = []\n",
        "\n",
        "    def add_transaction(self, transaction_type, amount, category, source, date):\n",
        "        self.transactions.append({\"type\": transaction_type, \"amount\": amount, \"category\": category, \"source\": source, \"date\": date})\n",
        "\n",
        "    def display_transaction_history(self):\n",
        "        for transaction in self.transactions:\n",
        "            print(transaction)\n",
        "\n",
        "history = TransactionHistory()\n",
        "history.add_transaction(\"Expense\", 50, \"Food\", \"Grocery Store\", \"2024-04-29\")\n",
        "history.add_transaction(\"Income\", 1000, \"Salary\", \"Employer\", \"2024-04-30\")\n",
        "history.display_transaction_history()\n"
      ],
      "metadata": {
        "colab": {
          "base_uri": "https://localhost:8080/"
        },
        "id": "qGVMlzutFndG",
        "outputId": "3c84f64d-c37e-4d14-9304-b3f649c3b5c5"
      },
      "execution_count": 11,
      "outputs": [
        {
          "output_type": "stream",
          "name": "stdout",
          "text": [
            "{'type': 'Expense', 'amount': 50, 'category': 'Food', 'source': 'Grocery Store', 'date': '2024-04-29'}\n",
            "{'type': 'Income', 'amount': 1000, 'category': 'Salary', 'source': 'Employer', 'date': '2024-04-30'}\n"
          ]
        }
      ]
    },
    {
      "cell_type": "code",
      "source": [
        "# expense analysis\n",
        "class ExpenseAnalyzer:\n",
        "    def __init__(self, expense_tracker):\n",
        "        self.expense_tracker = expense_tracker\n",
        "\n",
        "    def average_daily_expenses(self):\n",
        "        total_expenses = self.expense_tracker.total_expenses()\n",
        "        num_days = len(set(expense[\"date\"] for expense in self.expense_tracker.expenses))\n",
        "        return total_expenses / num_days if num_days > 0 else 0\n",
        "\n",
        "analyzer = ExpenseAnalyzer(tracker)\n",
        "print(\"Average daily expenses:\", analyzer.average_daily_expenses())\n"
      ],
      "metadata": {
        "colab": {
          "base_uri": "https://localhost:8080/"
        },
        "id": "-94SiWdfG9Ti",
        "outputId": "606b247e-5ada-4102-bac8-a062321c1ac6"
      },
      "execution_count": 15,
      "outputs": [
        {
          "output_type": "stream",
          "name": "stdout",
          "text": [
            "Average daily expenses: 7800.0\n"
          ]
        }
      ]
    },
    {
      "cell_type": "code",
      "source": [
        "# budget alerts\n",
        "class BudgetAlerts:\n",
        "    def __init__(self, expense_tracker, budget_manager):\n",
        "        self.expense_tracker = expense_tracker\n",
        "        self.budget_manager = budget_manager\n",
        "\n",
        "    def check_budget_status(self, category):\n",
        "        remaining_budget = self.budget_manager.remaining_budget(category)\n",
        "        total_expenses = sum(expense[\"amount\"] for expense in self.expense_tracker.expenses if expense[\"category\"] == category)\n",
        "        if total_expenses > 0 and total_expenses >= 0.8 * remaining_budget:\n",
        "            print(f\"Alert: {category} budget is nearly exhausted!\")\n",
        "\n",
        "alerts = BudgetAlerts(tracker, budget_manager)\n",
        "alerts.check_budget_status(\"Food\")\n",
        "\n"
      ],
      "metadata": {
        "colab": {
          "base_uri": "https://localhost:8080/"
        },
        "id": "N0naJpp1HSDQ",
        "outputId": "8402410a-d621-4b25-8ab7-d36a1b1fc07a"
      },
      "execution_count": 18,
      "outputs": [
        {
          "output_type": "stream",
          "name": "stdout",
          "text": [
            "Alert: Food budget is nearly exhausted!\n"
          ]
        }
      ]
    }
  ]
}